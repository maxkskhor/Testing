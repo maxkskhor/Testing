{
 "cells": [
  {
   "cell_type": "code",
   "execution_count": 1,
   "metadata": {},
   "outputs": [],
   "source": [
    "exist = {}\n",
    "exist[(51,26)] = [1,0]\n",
    "exist[(51,25)] = [0,1]\n",
    "def earn2(n,r):\n",
    "    # first argument is gain\n",
    "    # second argument is draw or not\n",
    "    b = n-r\n",
    "\n",
    "    if r > 26:\n",
    "        return [0,-1]\n",
    "    elif b > 26:\n",
    "        return [0,-1]\n",
    "    elif (n,r) in exist.keys():\n",
    "        return exist[(n,r)]\n",
    "    else:\n",
    "        remain_r = 26-r\n",
    "        remain_b = 26-b\n",
    "        current_gain = r-b\n",
    "        expectation = remain_r*earn2(n+1,r+1)[0]/(52-n) + remain_b*earn2(n+1,r)[0]/(52-n)\n",
    "        if expectation > current_gain:\n",
    "            exist[(n,r)] = [expectation, 1]\n",
    "            return [expectation, 1]\n",
    "        else:\n",
    "            exist[(n,r)] = [current_gain, 0]\n",
    "            return [current_gain, 0]"
   ]
  },
  {
   "cell_type": "code",
   "execution_count": 3,
   "metadata": {},
   "outputs": [
    {
     "data": {
      "text/plain": [
       "[2.6244755489939244, 1]"
      ]
     },
     "execution_count": 3,
     "metadata": {},
     "output_type": "execute_result"
    }
   ],
   "source": [
    "earn2(0,0)"
   ]
  }
 ],
 "metadata": {
  "kernelspec": {
   "display_name": "Python 3.7.8 64-bit",
   "language": "python",
   "name": "python3"
  },
  "language_info": {
   "codemirror_mode": {
    "name": "ipython",
    "version": 3
   },
   "file_extension": ".py",
   "mimetype": "text/x-python",
   "name": "python",
   "nbconvert_exporter": "python",
   "pygments_lexer": "ipython3",
   "version": "3.7.8"
  },
  "orig_nbformat": 4,
  "vscode": {
   "interpreter": {
    "hash": "0a54084e6b208ee8d1ce3989ffc20924477a5f55f5a43e22e699a6741623861e"
   }
  }
 },
 "nbformat": 4,
 "nbformat_minor": 2
}
